{
 "cells": [
  {
   "cell_type": "code",
   "execution_count": 1,
   "metadata": {},
   "outputs": [
    {
     "name": "stderr",
     "output_type": "stream",
     "text": [
      "c:\\Users\\herik\\OneDrive\\Área de Trabalho\\Corretor\\.venv\\lib\\site-packages\\fuzzywuzzy\\fuzz.py:11: UserWarning: Using slow pure-python SequenceMatcher. Install python-Levenshtein to remove this warning\n",
      "  warnings.warn('Using slow pure-python SequenceMatcher. Install python-Levenshtein to remove this warning')\n"
     ]
    }
   ],
   "source": [
    "import pandas as pd\n",
    "from fuzzywuzzy import fuzz"
   ]
  },
  {
   "cell_type": "code",
   "execution_count": null,
   "metadata": {},
   "outputs": [],
   "source": [
    "def encontrar_classe(palavra, dataframe):\n",
    "    similaridade_maxima = -1\n",
    "    classe_maxima = None\n",
    "\n",
    "    max_media = {'classe': None, 'media':0}\n",
    "    for _, row in dataframe.iterrows():\n",
    "        classe = row[0]\n",
    "        lista_palavras = row[1].split(',')\n",
    "\n",
    "        media = 0\n",
    "        for palavra_ref in lista_palavras:\n",
    "            similaridade = fuzz.ratio(palavra.lower(), palavra_ref.lower())\n",
    "            media += similaridade\n",
    "\n",
    "            if similaridade > similaridade_maxima:\n",
    "                similaridade_maxima = similaridade\n",
    "                classe_maxima = classe\n",
    "        \n",
    "        if media > max_media['media'] and > 5000:\n",
    "            max_media = {'classe': classe, 'media': media}\n",
    "\n",
    "    return {'classe': classe_maxima, 'probabilidade': similaridade_maxima}, max_media"
   ]
  }
 ],
 "metadata": {
  "kernelspec": {
   "display_name": ".venv",
   "language": "python",
   "name": "python3"
  },
  "language_info": {
   "codemirror_mode": {
    "name": "ipython",
    "version": 3
   },
   "file_extension": ".py",
   "mimetype": "text/x-python",
   "name": "python",
   "nbconvert_exporter": "python",
   "pygments_lexer": "ipython3",
   "version": "3.9.7"
  },
  "orig_nbformat": 4
 },
 "nbformat": 4,
 "nbformat_minor": 2
}
